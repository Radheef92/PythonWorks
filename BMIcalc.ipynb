{
 "cells": [
  {
   "cell_type": "code",
   "execution_count": 23,
   "id": "49d477c4",
   "metadata": {},
   "outputs": [
    {
     "name": "stdout",
     "output_type": "stream",
     "text": [
      "Enter Your  Name: Radheef\n",
      "Enter Your Weight In Pounds: 141\n",
      "Enter Your height In inches70\n",
      "your BMI is :  20.22918367346939\n",
      "Radheef,You are normalweight. \n"
     ]
    }
   ],
   "source": [
    "\n",
    "name = input(\"Enter Your  Name: \")\n",
    "\n",
    "weight = int(input(\"Enter Your Weight In Pounds: \"))\n",
    "\n",
    "height = float(input(\"Enter Your height In inches\"))\n",
    "\n",
    "BMI = float((weight * 703) / (height * height))\n",
    "\n",
    "print(\"your BMI is : \", + BMI)\n",
    "\n",
    "if BMI>0:\n",
    "    if (BMI<18.5):\n",
    "        print(name +\", You are underweight. \")\n",
    "    elif (BMI<=24.9):\n",
    "        print(name +\",You are normalweight. \")\n",
    "    elif (BMI<=29.9):\n",
    "        print(name +\",You are overweight. \")\n",
    "    elif (BMI<=34.9):\n",
    "        print(name +\",You are obese. \")\n",
    "    elif (BMI<=39.9):\n",
    "        print(name +\",You are Severely obese. \")\n",
    "    else:\n",
    "        print(name +\",You are Morbidly obese. \")\n",
    "else:\n",
    "    print(\"Enter valid inputs\")\n",
    "    \n",
    "    "
   ]
  },
  {
   "cell_type": "code",
   "execution_count": null,
   "id": "6fca111b",
   "metadata": {
    "scrolled": true
   },
   "outputs": [],
   "source": []
  },
  {
   "cell_type": "code",
   "execution_count": null,
   "id": "de5eb81c",
   "metadata": {},
   "outputs": [],
   "source": []
  },
  {
   "cell_type": "code",
   "execution_count": null,
   "id": "9249db68",
   "metadata": {},
   "outputs": [],
   "source": [
    "Under 18.5\tUnderweight\tMinimal\n",
    "18.5 - 24.9\tNormal Weight\tMinimal\n",
    "25 - 29.9\tOverweight\tIncreased\n",
    "30 - 34.9\tObese\tHigh\n",
    "35 - 39.9\tSeverely Obese\tVery High\n",
    "40 and over\tMorbidly Obese\tExtremely High"
   ]
  },
  {
   "cell_type": "code",
   "execution_count": null,
   "id": "bbf2b443",
   "metadata": {},
   "outputs": [],
   "source": [
    "\n",
    "   \n",
    "        "
   ]
  },
  {
   "cell_type": "code",
   "execution_count": null,
   "id": "1c019c66",
   "metadata": {},
   "outputs": [],
   "source": []
  },
  {
   "cell_type": "code",
   "execution_count": null,
   "id": "8d1e5b6e",
   "metadata": {},
   "outputs": [],
   "source": []
  }
 ],
 "metadata": {
  "kernelspec": {
   "display_name": "Python 3 (ipykernel)",
   "language": "python",
   "name": "python3"
  },
  "language_info": {
   "codemirror_mode": {
    "name": "ipython",
    "version": 3
   },
   "file_extension": ".py",
   "mimetype": "text/x-python",
   "name": "python",
   "nbconvert_exporter": "python",
   "pygments_lexer": "ipython3",
   "version": "3.10.9"
  }
 },
 "nbformat": 4,
 "nbformat_minor": 5
}
